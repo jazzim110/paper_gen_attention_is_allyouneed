{
 "cells": [
  {
   "cell_type": "code",
   "execution_count": 7,
   "metadata": {},
   "outputs": [],
   "source": [
    "from torchtext.data import Iterator\n",
    "import sentencepiece as spm\n",
    "from torchtext.data import Field, TabularDataset\n",
    "from collections import Counter, OrderedDict\n",
    "import numpy as np\n",
    "from torch.utils.data import DataLoader"
   ]
  },
  {
   "cell_type": "code",
   "execution_count": null,
   "metadata": {},
   "outputs": [],
   "source": [
    "### englisgh wordpiece model gen."
   ]
  },
  {
   "cell_type": "code",
   "execution_count": 10,
   "metadata": {},
   "outputs": [
    {
     "data": {
      "text/plain": [
       "True"
      ]
     },
     "execution_count": 10,
     "metadata": {},
     "output_type": "execute_result"
    }
   ],
   "source": [
    "templates = '--input={} --model_prefix={} --vocab_size={} --control_symbols=[CLS],[SEP]\\\n",
    "            --user_defined_symbols=[MASK] --pad_id=0 --bos_id=1 --eos_id=2 --unk_id=3'\n",
    "\n",
    "vocab_size = 5000\n",
    "prefix = 'en'\n",
    "input_file = '/home/jaehoon/JupyterNotebook/1.python3/5.2019_2_paper/dataset/de-en/train.en'\n",
    "cmd = templates.format(input_file, prefix, vocab_size)\n",
    "\n",
    "spm.SentencePieceTrainer.Train(cmd)\n",
    "\n",
    "sp_en = spm.SentencePieceProcessor()\n",
    "sp_en.Load('{}.model'.format(prefix))"
   ]
  },
  {
   "cell_type": "code",
   "execution_count": null,
   "metadata": {},
   "outputs": [],
   "source": [
    "### gemerny wordpiece model gen."
   ]
  },
  {
   "cell_type": "code",
   "execution_count": 246,
   "metadata": {},
   "outputs": [
    {
     "data": {
      "text/plain": [
       "True"
      ]
     },
     "execution_count": 246,
     "metadata": {},
     "output_type": "execute_result"
    }
   ],
   "source": [
    "templates = '--input={} --model_prefix={} --vocab_size={} --control_symbols=[CLS],[SEP]\\\n",
    "            --user_defined_symbols=[MASK] --pad_id=0 --bos_id=1 --eos_id=2 --unk_id=3'\n",
    "\n",
    "vocab_size = 5000\n",
    "prefix = 'de'\n",
    "output_file = '/home/jaehoon/JupyterNotebook/1.python3/5.2019_2_paper/dataset/de-en/train.de'\n",
    "cmd = templates.format(output_file, prefix, vocab_size)\n",
    "\n",
    "spm.SentencePieceTrainer.Train(cmd)\n",
    "\n",
    "sp_de = spm.SentencePieceProcessor()\n",
    "sp_de.Load('{}.model'.format(prefix))"
   ]
  },
  {
   "cell_type": "code",
   "execution_count": null,
   "metadata": {},
   "outputs": [],
   "source": [
    "### tokenize_en"
   ]
  },
  {
   "cell_type": "code",
   "execution_count": 11,
   "metadata": {},
   "outputs": [
    {
     "name": "stdout",
     "output_type": "stream",
     "text": [
      "first wordpiece : ['▁David', '▁G', 'al', 'lo', ':', '▁This', '▁is', '▁Bill', '▁La', 'n', 'ge', '.', '▁I', \"'\", 'm', '▁Da', 've', '▁G', 'al', 'lo', '.']\n",
      "first wordidx : [2394, 378, 103, 342, 65, 111, 20, 2742, 874, 78, 419, 8, 17, 12, 45, 1485, 68, 378, 103, 342, 8]\n",
      "first sentense length : 49\n",
      "dictory : {'▁David': 2394, '▁G': 378, 'al': 103, 'lo': 342, ':': 65, '▁This': 111, '▁is': 20, '▁Bill': 2742, '▁La': 874, 'n': 78, 'ge': 419, '.': 8, '▁I': 17, \"'\": 12, 'm': 45, '▁Da': 1485, 've': 68}\n"
     ]
    }
   ],
   "source": [
    "token2idx_en = dict()\n",
    "idx2token_en = dict()\n",
    "wordpiece_list_en = list()\n",
    "word_maxlen_en = 0\n",
    "sen_maxlen_en = 0\n",
    "sen_len_list_en = list()\n",
    "\n",
    "with open(input_file, 'r', encoding='utf-8') as df:\n",
    "    lines = df.readlines()\n",
    "    for i, line in enumerate(lines):\n",
    "        wordpiece = sp_en.EncodeAsPieces(line)\n",
    "        wordidx = sp_en.EncodeAsIds(line)\n",
    "        wordpiece_list_en.append(wordidx)\n",
    "        sen_len_list_en.append(len(line))\n",
    "        if len(line) >= sen_maxlen_en:\n",
    "            sen_maxlen_en = len(line)\n",
    "        for word, idx in zip(wordpiece, wordidx):\n",
    "            token2idx_en[word] = idx\n",
    "            idx2token_en[idx] = word\n",
    "            if len(word) >= word_maxlen_en:\n",
    "                word_maxlen_en = len(word)\n",
    "        if i == 0:\n",
    "            print(\"first wordpiece : {}\".format(wordpiece))\n",
    "            print(\"first wordidx : {}\".format(wordidx))\n",
    "            print(\"first sentense length : {}\".format(len(line)))\n",
    "            print(\"dictory : {}\".format(token2idx_en))"
   ]
  },
  {
   "cell_type": "code",
   "execution_count": 6,
   "metadata": {},
   "outputs": [
    {
     "name": "stdout",
     "output_type": "stream",
     "text": [
      "max word length : 16\n",
      "max sentense length : 2688\n",
      "dictionay size : 5073\n",
      "total number of sentense : 196884\n"
     ]
    }
   ],
   "source": [
    "print(\"max word length : {}\".format(word_maxlen_en))\n",
    "print(\"max sentense length : {}\".format(sen_maxlen_en))\n",
    "print(\"dictionay size : {}\".format(len(token2idx_en)))\n",
    "print(\"total number of sentense : {}\".format(len(wordpiece_list_en)))"
   ]
  },
  {
   "cell_type": "code",
   "execution_count": null,
   "metadata": {},
   "outputs": [],
   "source": [
    "### tokenize_gemerny"
   ]
  },
  {
   "cell_type": "code",
   "execution_count": 249,
   "metadata": {},
   "outputs": [
    {
     "name": "stdout",
     "output_type": "stream",
     "text": [
      "first wordpiece : ['▁David', '▁Gal', 'lo', ':', '▁Das', '▁ist', '▁Bill', '▁Lang', 'e', '.', '▁Ich', '▁bin', '▁Da', 've', '▁Gal', 'lo', '.']\n",
      "first wordidx : [2945, 3275, 376, 43, 54, 17, 2918, 2984, 12, 8, 40, 192, 204, 911, 3275, 376, 8]\n",
      "first sentense length : 53\n",
      "dictory : {'▁David': 2945, '▁Gal': 3275, 'lo': 376, ':': 43, '▁Das': 54, '▁ist': 17, '▁Bill': 2918, '▁Lang': 2984, 'e': 12, '.': 8, '▁Ich': 40, '▁bin': 192, '▁Da': 204, 've': 911}\n"
     ]
    }
   ],
   "source": [
    "token2idx_de = dict()\n",
    "idx2token_de = dict()\n",
    "wordpiece_list_de = list()\n",
    "word_maxlen_de = 0\n",
    "sen_maxlen_de = 0\n",
    "sen_len_list_de = list()\n",
    "\n",
    "with open(output_file, 'r', encoding='utf-8') as df:\n",
    "    lines = df.readlines()\n",
    "    for i, line in enumerate(lines):\n",
    "        wordpiece = sp_de.EncodeAsPieces(line)\n",
    "        wordidx = sp_de.EncodeAsIds(line)\n",
    "        wordpiece_list_de.append(wordidx)\n",
    "        sen_len_list_de.append(len(line))\n",
    "        if len(line) >= sen_maxlen_de:\n",
    "            sen_maxlen_de = len(line)\n",
    "        for word, idx in zip(wordpiece, wordidx):\n",
    "            token2idx_de[word] = idx\n",
    "            idx2token_de[idx] = word\n",
    "            if len(word) >= word_maxlen_de:\n",
    "                word_maxlen_de = len(word)\n",
    "        if i == 0:\n",
    "            print(\"first wordpiece : {}\".format(wordpiece))\n",
    "            print(\"first wordidx : {}\".format(wordidx))\n",
    "            print(\"first sentense length : {}\".format(len(line)))\n",
    "            print(\"dictory : {}\".format(token2idx_de))"
   ]
  },
  {
   "cell_type": "code",
   "execution_count": 250,
   "metadata": {},
   "outputs": [
    {
     "name": "stdout",
     "output_type": "stream",
     "text": [
      "max word length : 16\n",
      "max sentense length : 3199\n",
      "dictionay size : 5095\n",
      "total number of sentense : 196884\n"
     ]
    }
   ],
   "source": [
    "print(\"max word length : {}\".format(word_maxlen_de))\n",
    "print(\"max sentense length : {}\".format(sen_maxlen_de))\n",
    "print(\"dictionay size : {}\".format(len(token2idx_de)))\n",
    "print(\"total number of sentense : {}\".format(len(wordpiece_list_de)))"
   ]
  },
  {
   "cell_type": "code",
   "execution_count": null,
   "metadata": {},
   "outputs": [],
   "source": [
    "### max sentense length 기준으로 zero padding 해주는 함수 작성"
   ]
  },
  {
   "cell_type": "code",
   "execution_count": 282,
   "metadata": {},
   "outputs": [
    {
     "name": "stdout",
     "output_type": "stream",
     "text": [
      "누적 10.0%를 차지하는 sentence length 값 : 31\n",
      "누적 10.0%를 차지하는 sentence length 값 : 34\n",
      "34\n",
      "148988\n",
      "148988\n",
      "Source Matrix Shape (DE): (148988, 34)\n",
      "Target Matrix Shape (EN): (148988, 34)\n",
      "\n",
      "------------------------ Show the example case ------------------------\n",
      "[2945 3275  376   43   54   17 2918 2984   12    8   40  192  204  911\n",
      " 3275  376    8    0    0    0    0    0    0    0    0    0    0    0\n",
      "    0    0    0    0    0    0]\n",
      "[2394  378  103  342   65  111   20 2742  874   78  419    8   17   12\n",
      "   45 1485   68  378  103  342    8    0    0    0    0    0    0    0\n",
      "    0    0    0    0    0    0]\n",
      "------------------------ Show the example case ------------------------\n",
      "[ 209 1140 1204   17   10 2941   11   10 3692   76  461   60 1389 1731\n",
      "   53   18   34 1998  168  124   75  214   15    8    0    0    0    0\n",
      "    0    0    0    0    0    0]\n",
      "[  80 4371   15   10 1395 1644    9  270   18   10  790   20 1709    7\n",
      "   18  794    7  146   21   20   18   10 4011    9    8    0    0    0\n",
      "    0    0    0    0    0    0]\n"
     ]
    }
   ],
   "source": [
    "source = list()\n",
    "target = list()\n",
    "\n",
    "cutoff_max_sen_len_en = find_cutoff_max_sen_len(0.1, sen_len_list_en)\n",
    "cutoff_max_sen_len_de = find_cutoff_max_sen_len(0.1, sen_len_list_de)\n",
    "cutoff_max_sen_len = max(cutoff_max_sen_len_en, cutoff_max_sen_len_de)\n",
    "\n",
    "print(cutoff_max_sen_len)\n",
    "\n",
    "for idx in range(len(wordpiece_list_en)):\n",
    "    if max(len(wordpiece_list_en[idx]), len(wordpiece_list_de[idx])) <= cutoff_max_sen_len:\n",
    "        source.append(np.array(wordpiece_list_de[idx]))\n",
    "        target.append(np.array(wordpiece_list_en[idx]))\n",
    "\n",
    "print(len(source))\n",
    "print(len(target))\n",
    "        \n",
    "inputs = np.zeros([len(source), cutoff_max_sen_len], dtype=np.int32)\n",
    "outputs = np.zeros([len(target), cutoff_max_sen_len], dtype=np.int32)\n",
    "\n",
    "for idx, (x, y) in enumerate(zip(source, target)): # source english, target genmerny\n",
    "    inputs[idx, :len(x)] = x\n",
    "    outputs[idx, :len(y)] = y\n",
    "    \n",
    "print (\"Source Matrix Shape (DE):\", inputs.shape)\n",
    "print (\"Target Matrix Shape (EN):\", outputs.shape)\n",
    "print ()\n",
    "print ('------------------------ Show the example case ------------------------')\n",
    "print (inputs[0])\n",
    "print (outputs[0])\n",
    "\n",
    "print ('------------------------ Show the example case ------------------------')\n",
    "print (inputs[10])\n",
    "print (outputs[10])"
   ]
  },
  {
   "cell_type": "code",
   "execution_count": null,
   "metadata": {},
   "outputs": [],
   "source": [
    "### data loader 작성. torch dataloader로 만들 것"
   ]
  },
  {
   "cell_type": "code",
   "execution_count": 319,
   "metadata": {},
   "outputs": [],
   "source": [
    "def dataloader(inputs, outputs, batch_size):\n",
    "    \n",
    "    X = DataLoader(inputs, batch_size=batch_size, drop_last=True)\n",
    "    Y = DataLoader(outputs, batch_size=batch_size, drop_last=True)\n",
    "    \n",
    "    return X, Y"
   ]
  },
  {
   "cell_type": "code",
   "execution_count": 284,
   "metadata": {},
   "outputs": [],
   "source": [
    "### sentence length variance"
   ]
  },
  {
   "cell_type": "code",
   "execution_count": 279,
   "metadata": {},
   "outputs": [],
   "source": [
    "def find_cutoff_max_sen_len(cutoff_value, sen_len_list_en):\n",
    "    \n",
    "    count_sen_len = Counter(sen_len_list_en)\n",
    "    total_count_sen_len = sum(count_sen_len.values())\n",
    "    dict_count_sen_len = dict(count_sen_len)\n",
    "    dict_count_sen_len = OrderedDict(sorted(dict_count_sen_len.items()))\n",
    "    \n",
    "    temp_count_sen_len = 0\n",
    "    for k, v in dict_count_sen_len.items():\n",
    "        temp_count_sen_len += v\n",
    "        cdf_inv = temp_count_sen_len / total_count_sen_len\n",
    "        if cdf_inv >= cutoff_value:\n",
    "            cutoff_max_sen_len = k\n",
    "            print(\"누적 {}%를 차지하는 sentence length 값 : {}\".format(cutoff_value*100, cutoff_max_sen_len))\n",
    "            break\n",
    "            \n",
    "    return cutoff_max_sen_len"
   ]
  },
  {
   "cell_type": "code",
   "execution_count": 241,
   "metadata": {},
   "outputs": [],
   "source": []
  },
  {
   "cell_type": "code",
   "execution_count": null,
   "metadata": {},
   "outputs": [],
   "source": []
  },
  {
   "cell_type": "code",
   "execution_count": null,
   "metadata": {},
   "outputs": [],
   "source": []
  },
  {
   "cell_type": "code",
   "execution_count": null,
   "metadata": {},
   "outputs": [],
   "source": []
  },
  {
   "cell_type": "code",
   "execution_count": null,
   "metadata": {},
   "outputs": [],
   "source": []
  },
  {
   "cell_type": "code",
   "execution_count": null,
   "metadata": {},
   "outputs": [],
   "source": []
  },
  {
   "cell_type": "code",
   "execution_count": null,
   "metadata": {},
   "outputs": [],
   "source": []
  },
  {
   "cell_type": "code",
   "execution_count": 243,
   "metadata": {},
   "outputs": [
    {
     "data": {
      "image/png": "[encoded data removed]",
      "text/plain": [
       "<Figure size 720x288 with 1 Axes>"
      ]
     },
     "metadata": {
      "needs_background": "light"
     },
     "output_type": "display_data"
    }
   ],
   "source": [
    "import pandas as pd\n",
    "import matplotlib.pyplot as plt\n",
    "plt.rcParams[\"figure.figsize\"] = (10,4)\n",
    "\n",
    "n, bins, patches = plt.hist(sen_len_en, 50, density=True, facecolor='g', alpha=0.75)\n",
    "\n",
    "plt.xlabel('length')\n",
    "plt.ylabel('probability')\n",
    "plt.title('sentence length')\n",
    "plt.grid(True)\n",
    "plt.show()"
   ]
  },
  {
   "cell_type": "code",
   "execution_count": null,
   "metadata": {},
   "outputs": [],
   "source": []
  }
 ],
 "metadata": {
  "kernelspec": {
   "display_name": "conda_python36",
   "language": "python",
   "name": "conda_python36"
  },
  "language_info": {
   "codemirror_mode": {
    "name": "ipython",
    "version": 3
   },
   "file_extension": ".py",
   "mimetype": "text/x-python",
   "name": "python",
   "nbconvert_exporter": "python",
   "pygments_lexer": "ipython3",
   "version": "3.6.8"
  }
 },
 "nbformat": 4,
 "nbformat_minor": 2
}
